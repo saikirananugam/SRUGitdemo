{
 "cells": [
  {
   "cell_type": "code",
   "execution_count": 2,
   "metadata": {},
   "outputs": [
    {
     "name": "stdout",
     "output_type": "stream",
     "text": [
      "Enter first side: 7\n",
      "Enter second side: 8\n",
      "Enter third side: 9\n",
      "The area of the triangle is  720.0\n"
     ]
    }
   ],
   "source": [
    "#1. Calculating the area of a triangle\n",
    "a = float(input('Enter first side: '))\n",
    "b = float(input('Enter second side: '))\n",
    "c = float(input('Enter third side: '))\n",
    "s = (a + b + c) / 2\n",
    "area = (s*(s-a)*(s-b)*(s-c))\n",
    "print('The area of the triangle is ' ,area)"
   ]
  },
  {
   "cell_type": "code",
   "execution_count": 3,
   "metadata": {},
   "outputs": [
    {
     "name": "stdout",
     "output_type": "stream",
     "text": [
      "Enter any string : sas\n",
      "The String sas is palindrome\n"
     ]
    }
   ],
   "source": [
    "# 2. whether the string is palindrome or not\n",
    "s=input(\"Enter any string : \")\n",
    "a=s[::-1]\n",
    "s==a\n",
    "if s==a:\n",
    "   print(f\"The String {s} is palindrome\")\n",
    "else:\n",
    "   print(f\"The String {s} is not palindrome\")"
   ]
  },
  {
   "cell_type": "code",
   "execution_count": 4,
   "metadata": {},
   "outputs": [
    {
     "name": "stdout",
     "output_type": "stream",
     "text": [
      "Enter year : 2019\n",
      " is Not the Leap Year\n"
     ]
    }
   ],
   "source": [
    "# 3. leap year or not\n",
    "y=int(input(\"Enter year : \"))\n",
    "if  y%400 == 0 or y%100 != 0 and y%4 == 0:\n",
    "    print(f\"{y} is a Leap Year\")\n",
    "else:\n",
    "    print(\" is Not the Leap Year\".format(y))"
   ]
  },
  {
   "cell_type": "code",
   "execution_count": 5,
   "metadata": {},
   "outputs": [
    {
     "name": "stdout",
     "output_type": "stream",
     "text": [
      "sai kiran anugam\n"
     ]
    },
    {
     "data": {
      "text/plain": [
       "'sai-kiran-anugam'"
      ]
     },
     "execution_count": 5,
     "metadata": {},
     "output_type": "execute_result"
    }
   ],
   "source": [
    "#4.convert spaces into hyphen\n",
    "s=input(\"\")#enter sentence\n",
    "s=s.replace(' ','-')\n",
    "s"
   ]
  },
  {
   "cell_type": "code",
   "execution_count": 6,
   "metadata": {},
   "outputs": [
    {
     "data": {
      "text/plain": [
       "['cyan', 'green', 'magenta', 'orange', 'pink', 'red', 'white']"
      ]
     },
     "execution_count": 6,
     "metadata": {},
     "output_type": "execute_result"
    }
   ],
   "source": [
    "#5. unique sort problem\n",
    "list=\"orange\",\"red\",\"green\",\"cyan\",\"white\",\"pink\",\"magenta\"\n",
    "list=sorted(list)\n",
    "list"
   ]
  },
  {
   "cell_type": "code",
   "execution_count": 7,
   "metadata": {},
   "outputs": [
    {
     "name": "stdout",
     "output_type": "stream",
     "text": [
      "Enter salary of a person : 123456\n",
      "The tax is 0.0\n"
     ]
    }
   ],
   "source": [
    "#6. Tax for monthly salary\n",
    "s=int(input('Enter salary of a person : '))\n",
    "if s<=250000:\n",
    "    tax=0# in percentage\n",
    "    T=s*(tax/100)\n",
    "elif s>250000 and s<=500000:\n",
    "    tax=5 # in percentage\n",
    "    T=s*(tax/100)\n",
    "elif s>500000 and s<=750000:\n",
    "    tax=10# in percentage\n",
    "    T=s*(tax/100)\n",
    "elif s>750000 and s<=1000000:\n",
    "    tax=15# in percentage\n",
    "    T=s*(tax/100)\n",
    "elif s>1000000 and s<=1250000:\n",
    "    tax=20# in percentage\n",
    "    T=s*(tax/100)\n",
    "elif s>1250000 and s<=1500000:\n",
    "    tax=25# in percentage\n",
    "    T=s*(tax/100)\n",
    "elif s>1500000:\n",
    "    tax=30# in percentage\n",
    "    T=s*(tax/100)\n",
    "print(f'The tax is {T}')"
   ]
  },
  {
   "cell_type": "code",
   "execution_count": 8,
   "metadata": {},
   "outputs": [
    {
     "name": "stdout",
     "output_type": "stream",
     "text": [
      "Enter 1st integer 2\n",
      "Enter 2nd integer 3\n",
      "Enter 3rd integer 4\n",
      "234\n"
     ]
    }
   ],
   "source": [
    "#7.Convert into single integer\n",
    "a=(input(\"Enter 1st integer \"))\n",
    "b=(input(\"Enter 2nd integer \"))\n",
    "c=(input(\"Enter 3rd integer \"))\n",
    "print(a+b+c)"
   ]
  },
  {
   "cell_type": "code",
   "execution_count": 9,
   "metadata": {},
   "outputs": [
    {
     "name": "stdout",
     "output_type": "stream",
     "text": [
      "Enter days : 34\n",
      "Enter hours : 5\n",
      "Enter minutes : 6\n",
      "Enter seconds : 78\n",
      "Total seconds =  2956038\n"
     ]
    }
   ],
   "source": [
    "#8.Units of time\n",
    "D=int(input(\"Enter days : \"))\n",
    "H=int(input(\"Enter hours : \"))\n",
    "M=int(input(\"Enter minutes : \"))\n",
    "S=int(input(\"Enter seconds : \"))\n",
    "totalsec=D*24*60*60+H*60*60+M*60+S\n",
    "print(\"Total seconds = \",totalsec)"
   ]
  },
  {
   "cell_type": "code",
   "execution_count": 19,
   "metadata": {},
   "outputs": [
    {
     "name": "stdout",
     "output_type": "stream",
     "text": [
      "1 number : 6\n",
      "2 number: 7\n",
      "3 number: 8\n",
      "max number is\n",
      "8\n",
      "min number is\n",
      "6\n"
     ]
    }
   ],
   "source": [
    "#9.max and min function\n",
    "list=[input(\"1 number : \"),input(\"2 number: \"),input(\"3 number: \")]\n",
    "print(\"max number is\")\n",
    "print(max(list))\n",
    "print(\"min number is\")\n",
    "print(min(list))"
   ]
  },
  {
   "cell_type": "code",
   "execution_count": 11,
   "metadata": {},
   "outputs": [
    {
     "name": "stdout",
     "output_type": "stream",
     "text": [
      "Enter year YYYY : 2020\n",
      "Enter month MM : 3\n",
      "Enter date DD : 23\n",
      "YYYY-MM-DD : 2020-3-24\n"
     ]
    }
   ],
   "source": [
    "#10. \n",
    "year=int(input(\"Enter year YYYY : \"))\n",
    "month=int(input(\"Enter month MM : \"))\n",
    "day=int(input(\"Enter date DD : \"))\n",
    "0<month<13\n",
    "0<day<32\n",
    "if day==31 and month==12 :\n",
    "   print (\"YYYY-MM-DD : {}-01-01\".format(year+1))\n",
    "elif (day==31and (month==1 or 3 or 5 or 7 or 8 or 10)) :\n",
    "   print (\"YYYY-MM-DD : {}-{} 01\".format(year,month+1))\n",
    "elif ( day==30 and ( month==4 or 6 or 9 or 11)) :\n",
    "   print(\"YYYY-MM-DD : {}-{}-01\".format(year,month+1))\n",
    "elif ( day==28 and month==2 and year%4==0):\n",
    "   print (\"YYYY-MM-DD : {}-{}-29\".format(year,month))\n",
    "elif(day==28 and month==2):\n",
    "   print (\"YYYY-MM-DD : {}-03-01\".format(year))\n",
    "else : \n",
    "  print (\"YYYY-MM-DD : {}-{}-{}\".format(year,month,day+1))"
   ]
  },
  {
   "cell_type": "code",
   "execution_count": 12,
   "metadata": {},
   "outputs": [
    {
     "name": "stdout",
     "output_type": "stream",
     "text": [
      "121111200\n"
     ]
    }
   ],
   "source": [
    "#11.product of list\n",
    "import numpy\n",
    "list = [45,3,2,89,72,1,10,7]   \n",
    "result = numpy.prod(list) \n",
    "print(result)"
   ]
  },
  {
   "cell_type": "code",
   "execution_count": 13,
   "metadata": {},
   "outputs": [
    {
     "data": {
      "text/plain": [
       "(11, 14, 42, 123, 90)"
      ]
     },
     "execution_count": 13,
     "metadata": {},
     "output_type": "execute_result"
    }
   ],
   "source": [
    "#12. to get desired output\n",
    "def p(a,b,c,d,e,f) :\n",
    "  return a+b,b+c,c+d,d+e,e+f\n",
    "p(5,6,8,34,89,1)"
   ]
  },
  {
   "cell_type": "code",
   "execution_count": 15,
   "metadata": {},
   "outputs": [
    {
     "data": {
      "text/plain": [
       "(5, 30, 240, 720, 6480, 6480)"
      ]
     },
     "execution_count": 15,
     "metadata": {},
     "output_type": "execute_result"
    }
   ],
   "source": [
    "#13.num tuple\n",
    "def p(a,b,c,d,e,f) :\n",
    "  return a,a*b,a*b*c,a*b*c*d,a*b*c*d*e,a*b*c*d*e*f\n",
    "p(5,6,8,3,9,1)"
   ]
  },
  {
   "cell_type": "code",
   "execution_count": 16,
   "metadata": {},
   "outputs": [
    {
     "name": "stdout",
     "output_type": "stream",
     "text": [
      "Enter a number 33\n",
      "[3, 3]\n"
     ]
    }
   ],
   "source": [
    "#14.\n",
    "n=input(\"Enter a number \")\n",
    "c=str(n)\n",
    "l=[]\n",
    "for i in range(len(c)) :\n",
    "  l.append(int(c[i]))\n",
    "print (l)"
   ]
  },
  {
   "cell_type": "code",
   "execution_count": 17,
   "metadata": {},
   "outputs": [
    {
     "name": "stdout",
     "output_type": "stream",
     "text": [
      "Enter a palindrome 33233\n",
      "33233\n"
     ]
    }
   ],
   "source": [
    "#15.longest palindromic string\n",
    "q=input(\"Enter a palindrome \")\n",
    "list1=[]\n",
    "list2=[]\n",
    "index=0\n",
    "for i in range(0,len(q)-1):\n",
    "   for j in range(i+1,len(q)+1):\n",
    "       if j-i>1:\n",
    "          p=q[i:j]\n",
    "          if (p==p[::-1]):\n",
    "             list1.append(q[i:j])\n",
    "             list2.append(len(q[i:j]))\n",
    "maxi=max(list2)\n",
    "for i in list2:\n",
    "    if i==maxi:\n",
    "       print(list1[index])\n",
    "    else:\n",
    "       index=index+1"
   ]
  },
  {
   "cell_type": "code",
   "execution_count": 18,
   "metadata": {},
   "outputs": [
    {
     "name": "stdout",
     "output_type": "stream",
     "text": [
      "Enter a binary number l: 111100\n",
      "Enter another binary number m: 0011\n",
      "0\n"
     ]
    }
   ],
   "source": [
    "#16.\n",
    "def substringcheck(str1,str2):\n",
    "    str1len=len(str1)\n",
    "    test=0\n",
    "    for i in range(0,str1len):\n",
    "        if str1[i:i+len(str2)]==str2:\n",
    "            test=1\n",
    "    return test\n",
    "l=input('Enter a binary number l: ')\n",
    "m=input('Enter another binary number m: ')\n",
    "if substringcheck(l,m):\n",
    "    print('1')\n",
    "else:\n",
    "    print('0')"
   ]
  },
  {
   "cell_type": "code",
   "execution_count": null,
   "metadata": {},
   "outputs": [],
   "source": []
  }
 ],
 "metadata": {
  "kernelspec": {
   "display_name": "Python 3",
   "language": "python",
   "name": "python3"
  },
  "language_info": {
   "codemirror_mode": {
    "name": "ipython",
    "version": 3
   },
   "file_extension": ".py",
   "mimetype": "text/x-python",
   "name": "python",
   "nbconvert_exporter": "python",
   "pygments_lexer": "ipython3",
   "version": "3.7.6"
  }
 },
 "nbformat": 4,
 "nbformat_minor": 4
}
