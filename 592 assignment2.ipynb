{
 "cells": [
  {
   "cell_type": "code",
   "execution_count": 1,
   "metadata": {},
   "outputs": [
    {
     "name": "stdout",
     "output_type": "stream",
     "text": [
      "enter the year :2020\n",
      "rat\n"
     ]
    }
   ],
   "source": [
    "#1\n",
    "year=int(input(\"enter the year :\"))\n",
    "items=[\"monkey\",\"roaster\",\"dog\",\"pig\",\"rat\",\"ox\",\"tiger\",\"rabbit\",\"dragon\",\"snake\",\"horse\",\"sheep\"]\n",
    "value=items[year%12]\n",
    "print(value)"
   ]
  },
  {
   "cell_type": "code",
   "execution_count": 1,
   "metadata": {},
   "outputs": [
    {
     "name": "stdout",
     "output_type": "stream",
     "text": [
      "enter distance155\n",
      "enter weight78\n",
      "1395\n"
     ]
    }
   ],
   "source": [
    "#2\n",
    "d=int(input(\"enter distance\"))\n",
    "w=int(input(\"enter weight\"))\n",
    "if d>=500 :\n",
    "  if w>=100 :\n",
    "    value=5*d\n",
    "  elif w>=10 and w<100 :\n",
    "    value=6*d\n",
    "  else:\n",
    "    value=7*d\n",
    "else:\n",
    "  if w>=100:\n",
    "    value=8*d\n",
    "  else:\n",
    "    value=9*d\n",
    "  print(value)"
   ]
  },
  {
   "cell_type": "code",
   "execution_count": 2,
   "metadata": {},
   "outputs": [
    {
     "name": "stdout",
     "output_type": "stream",
     "text": [
      "seats available: stalls,circles,upper class,box\n",
      "enter seatstalls\n",
      "payment mode: cash card\n",
      "enter modecash\n",
      "593.75\n"
     ]
    }
   ],
   "source": [
    "#3\n",
    "print(\"seats available: stalls,circles,upper class,box\")\n",
    "s=input(\"enter seat\")\n",
    "if s=='stalls' :\n",
    "  a=625\n",
    "elif s=='circles' :\n",
    "    a=750\n",
    "elif s=='upper class' :\n",
    "      a=850\n",
    "elif s=='box' :\n",
    "        a=1000\n",
    "print(\"payment mode: cash card\")\n",
    "p= input(\"enter mode\")\n",
    "if p=='card' :\n",
    "          a=a-a*(10/100)\n",
    "          print(a)\n",
    "else :\n",
    "          a=a-a*(1/20)\n",
    "          print(a)"
   ]
  },
  {
   "cell_type": "code",
   "execution_count": 3,
   "metadata": {},
   "outputs": [
    {
     "name": "stdout",
     "output_type": "stream",
     "text": [
      "enter weight of water in kg's1233\n",
      "enter initial temp56\n",
      "enter final temp74\n",
      "92859696\n"
     ]
    }
   ],
   "source": [
    "#4\n",
    "weight=int(input(\"enter weight of water in kg's\"))\n",
    "inital=int(input(\"enter initial temp\"))\n",
    "final=int(input(\"enter final temp\"))\n",
    "v=(weight)*(final-inital)*4184\n",
    "print(v)"
   ]
  },
  {
   "cell_type": "code",
   "execution_count": 4,
   "metadata": {},
   "outputs": [
    {
     "name": "stdout",
     "output_type": "stream",
     "text": [
      "enter the monthmarch\n",
      "spring\n"
     ]
    }
   ],
   "source": [
    "#5\n",
    "m=input(\"enter the month\")\n",
    "if (m=='december' or m=='january' or m=='february') :\n",
    "  print(\"winter\")\n",
    "elif (m== 'march' or m=='april' or  m=='may') :\n",
    "  print(\"spring\")\n",
    "elif (m== 'june' or m=='july' or  m=='august') :\n",
    "  print(\"summer\")\n",
    "else :\n",
    "  print(\"autumn\")"
   ]
  },
  {
   "cell_type": "code",
   "execution_count": 5,
   "metadata": {},
   "outputs": [
    {
     "name": "stdout",
     "output_type": "stream",
     "text": [
      "enter weight123\n",
      "enter height34\n",
      "obese\n"
     ]
    }
   ],
   "source": [
    "#6\n",
    "w=int(input(\"enter weight\"))\n",
    "h=int(input(\"enter height\"))\n",
    "v=(w*0.45359237)/(h*0.0254)**2\n",
    "if v<18.5 :\n",
    "  print(\"under weight\")\n",
    "elif 25.0<=v<30.0 :\n",
    "  print(\"over weight\")\n",
    "else :\n",
    "  print(\"obese\")"
   ]
  },
  {
   "cell_type": "code",
   "execution_count": 6,
   "metadata": {},
   "outputs": [
    {
     "name": "stdout",
     "output_type": "stream",
     "text": [
      "enter the elements b/w 100 to 100056\n",
      "11\n"
     ]
    }
   ],
   "source": [
    "#7\n",
    "i=int(input(\"enter the elements b/w 100 to 1000\"))\n",
    "sum=0\n",
    "while i>0:\n",
    "  n=i%10\n",
    "  sum=sum+n\n",
    "  i=int(i/10)\n",
    "print(sum)"
   ]
  },
  {
   "cell_type": "code",
   "execution_count": 7,
   "metadata": {},
   "outputs": [
    {
     "name": "stdout",
     "output_type": "stream",
     "text": [
      "1 2 3 4 5 6 7 8 9 11 22 33 44 55 66 77 88 99 101 111 121 131 141 151 161 171 181 191 202 212 222 232 242 252 262 272 282 292 303 313 323 333 343 353 363 373 383 393 404 414 424 434 444 454 464 474 484 494 505 515 525 535 545 555 565 575 585 595 606 616 626 636 646 656 666 676 686 696 707 717 727 737 747 757 767 777 787 797 808 818 828 838 848 858 868 878 888 898 909 919 929 939 949 959 969 979 989 999 "
     ]
    }
   ],
   "source": [
    "#8\n",
    "for i in range(1,1001):\n",
    "  sum=0\n",
    "  p=i\n",
    "  while i>0 :\n",
    "    n=i%10\n",
    "    sum=sum*10+n\n",
    "    i=i//10\n",
    "    if p==sum :\n",
    "      print(p,end=\" \")"
   ]
  },
  {
   "cell_type": "code",
   "execution_count": 8,
   "metadata": {},
   "outputs": [
    {
     "name": "stdout",
     "output_type": "stream",
     "text": [
      "1 153 370 371 407 "
     ]
    }
   ],
   "source": [
    "#9\n",
    "for i in range(1,1001) :\n",
    "  sum=0\n",
    "  t=i\n",
    "  while i>0:\n",
    "    n=i%10\n",
    "    sum+=n*n*n\n",
    "    i=i//10\n",
    "  if sum==t:\n",
    "      print(t,end=\" \")"
   ]
  },
  {
   "cell_type": "code",
   "execution_count": 9,
   "metadata": {},
   "outputs": [
    {
     "name": "stdout",
     "output_type": "stream",
     "text": [
      "1\n",
      "2\n",
      "fizz\n",
      "4\n",
      "Buzz\n",
      "fizz\n",
      "7\n",
      "8\n",
      "fizz\n",
      "Buzz\n",
      "11\n",
      "fizz\n",
      "13\n",
      "14\n",
      "fizz buzz\n",
      "16\n",
      "17\n",
      "fizz\n",
      "19\n",
      "Buzz\n",
      "fizz\n",
      "22\n",
      "23\n",
      "fizz\n",
      "Buzz\n",
      "26\n",
      "fizz\n",
      "28\n",
      "29\n",
      "fizz buzz\n",
      "31\n",
      "32\n",
      "fizz\n",
      "34\n",
      "Buzz\n",
      "fizz\n",
      "37\n",
      "38\n",
      "fizz\n",
      "Buzz\n",
      "41\n",
      "fizz\n",
      "43\n",
      "44\n",
      "fizz buzz\n",
      "46\n",
      "47\n",
      "fizz\n",
      "49\n",
      "Buzz\n",
      "fizz\n",
      "52\n",
      "53\n",
      "fizz\n",
      "Buzz\n",
      "56\n",
      "fizz\n",
      "58\n",
      "59\n",
      "fizz buzz\n",
      "61\n",
      "62\n",
      "fizz\n",
      "64\n",
      "Buzz\n",
      "fizz\n",
      "67\n",
      "68\n",
      "fizz\n",
      "Buzz\n",
      "71\n",
      "fizz\n",
      "73\n",
      "74\n",
      "fizz buzz\n",
      "76\n",
      "77\n",
      "fizz\n",
      "79\n",
      "Buzz\n",
      "fizz\n",
      "82\n",
      "83\n",
      "fizz\n",
      "Buzz\n",
      "86\n",
      "fizz\n",
      "88\n",
      "89\n",
      "fizz buzz\n",
      "91\n",
      "92\n",
      "fizz\n",
      "94\n",
      "Buzz\n",
      "fizz\n",
      "97\n",
      "98\n",
      "fizz\n",
      "Buzz\n"
     ]
    }
   ],
   "source": [
    "#10\n",
    "for i in range(1,101):\n",
    "  if i%3==0 and i%5==0 :\n",
    "    print(\"fizz buzz\")\n",
    "  elif i % 3==0 :\n",
    "    print(\"fizz\")\n",
    "  elif i % 5==0 :\n",
    "    print(\"Buzz\")\n",
    "  else :\n",
    "    print(i)"
   ]
  },
  {
   "cell_type": "code",
   "execution_count": 10,
   "metadata": {},
   "outputs": [
    {
     "name": "stdout",
     "output_type": "stream",
     "text": [
      "enter the height of well=23\n",
      "enter the meters which are climbed=56\n",
      "enter slips down=8\n",
      "1\n"
     ]
    }
   ],
   "source": [
    "#11\n",
    "H= int(input(\"enter the height of well=\"))\n",
    "U= int(input(\"enter the meters which are climbed=\"))\n",
    "D= int(input(\"enter slips down=\"))\n",
    "s=((H-U)+(U-D))//(U-D)\n",
    "print(s+1)"
   ]
  },
  {
   "cell_type": "code",
   "execution_count": null,
   "metadata": {},
   "outputs": [],
   "source": []
  }
 ],
 "metadata": {
  "kernelspec": {
   "display_name": "Python 3",
   "language": "python",
   "name": "python3"
  },
  "language_info": {
   "codemirror_mode": {
    "name": "ipython",
    "version": 3
   },
   "file_extension": ".py",
   "mimetype": "text/x-python",
   "name": "python",
   "nbconvert_exporter": "python",
   "pygments_lexer": "ipython3",
   "version": "3.7.6"
  }
 },
 "nbformat": 4,
 "nbformat_minor": 4
}
